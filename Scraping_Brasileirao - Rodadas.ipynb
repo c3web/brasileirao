{
 "cells": [
  {
   "cell_type": "code",
   "execution_count": null,
   "metadata": {},
   "outputs": [],
   "source": [
    "#!pip install requests\n",
    "#!pip install bs4\n",
    "#!pip install pandas\n",
    "#!pip install spacy\n",
    "#!python -m spacy download pt_core_news_sm"
   ]
  },
  {
   "cell_type": "code",
   "execution_count": 1,
   "metadata": {},
   "outputs": [],
   "source": [
    "import requests\n",
    "from bs4 import BeautifulSoup\n",
    "import pandas as pd\n",
    "import numpy as np\n",
    "import datetime\n",
    "import os\n",
    "pd.set_option('display.max_columns', None)"
   ]
  },
  {
   "cell_type": "code",
   "execution_count": 2,
   "metadata": {},
   "outputs": [],
   "source": [
    "url = \"https://www.cbf.com.br/futebol-brasileiro/competicoes/campeonato-brasileiro-serie-a/2019\""
   ]
  },
  {
   "cell_type": "code",
   "execution_count": 3,
   "metadata": {},
   "outputs": [],
   "source": [
    "dados = requests.get(url)"
   ]
  },
  {
   "cell_type": "code",
   "execution_count": 4,
   "metadata": {},
   "outputs": [],
   "source": [
    "soup = BeautifulSoup(dados.content, 'html.parser')"
   ]
  },
  {
   "cell_type": "code",
   "execution_count": 5,
   "metadata": {},
   "outputs": [
    {
     "name": "stdout",
     "output_type": "stream",
     "text": [
      "<title>Tabela do Brasileirão | Série A 2019 - Confederação Brasileira de Futebol</title>\n"
     ]
    }
   ],
   "source": [
    "print(soup.title)"
   ]
  },
  {
   "cell_type": "code",
   "execution_count": 6,
   "metadata": {},
   "outputs": [],
   "source": [
    "linhas = []\n",
    "for i in range(0, 20):\n",
    "    div = soup.findAll('div', attrs='aside-content')[i]\n",
    "    linha = []\n",
    "    for span in div.findAll('span'):\n",
    "        \n",
    "        if len(span.getText().split()) >= 6 and len(span.getText().split()) <= 8:\n",
    "            linha.append(span.getText().split()[1]) # data\n",
    "            linha.append(span.getText().split()[2]) # horario\n",
    "            linha.append(span.getText().split()[5]) # jogo\n",
    "        \n",
    "        if len(span.getText().split()) == 1:\n",
    "            linha.append(span.getText().split()[0]) # time\n",
    "        \n",
    "        if len(span.getText().split()) == 3:\n",
    "            linha.append(span.getText().split()[0]) # placar time casa\n",
    "            linha.append(span.getText().split()[2]) # placar time visitante\n",
    "        \n",
    "        if len(span.getText().split()) >= 9:\n",
    "            #print(span.getText().split())\n",
    "            linha.append(span.getText().split()) # detalhes jogo [estadio, cidade, estado]\n",
    "    \n",
    "    if len(linha) >= 70:\n",
    "        linhas.append(linha)\n"
   ]
  },
  {
   "cell_type": "markdown",
   "metadata": {},
   "source": [
    "# Rodadas"
   ]
  },
  {
   "cell_type": "code",
   "execution_count": 7,
   "metadata": {},
   "outputs": [
    {
     "name": "stdout",
     "output_type": "stream",
     "text": [
      "---------------\n",
      "Rodada: 1\n",
      "SAO 2 x 0 BOT\n",
      "CHA 2 x 0 INT\n",
      "ATL 2 x 1 AVA\n",
      "FLA 3 x 1 CRU\n",
      "GRE 1 x 2 SAN\n",
      "CEA 4 x 0 CSA\n",
      "BAH 3 x 2 COR\n",
      "---------------\n",
      "Rodada: 2\n",
      "COR 1 x 0 CHA\n",
      "CSA 1 x 1 PAL\n",
      "INT 2 x 1 FLA\n",
      "CRU 1 x 0 CEA\n",
      "AVA 1 x 1 GRE\n",
      "FOR 2 x 1 ATH\n",
      "VAS 1 x 2 ATL\n",
      "---------------\n",
      "Rodada: 3\n",
      "PAL 1 x 0 INT\n",
      "VAS 1 x 1 COR\n",
      "CEA 1 x 2 ATL\n",
      "CHA 1 x 1 ATH\n",
      "CSA 0 x 0 SAN\n",
      "SAO 1 x 1 FLA\n",
      "BOT 1 x 0 FOR\n",
      "---------------\n",
      "Rodada: 4\n",
      "FLU 0 x 1 BOT\n",
      "COR 0 x 0 GRE\n",
      "GOI 2 x 1 CEA\n",
      "FLA 2 x 1 CHA\n",
      "INT 3 x 1 CRU\n",
      "ATL 0 x 2 PAL\n",
      "SAN 3 x 0 VAS\n",
      "---------------\n",
      "Rodada: 5\n",
      "FLU 4 x 1 CRU\n",
      "ATL 2 x 1 FLA\n",
      "PAL 4 x 0 SAN\n",
      "SAO 0 x 0 BAH\n",
      "CHA 1 x 3 FOR\n",
      "GOI 1 x 0 BOT\n",
      "ATH 0 x 2 COR\n",
      "---------------\n",
      "Rodada: 6\n",
      "BOT 0 x 1 PAL\n",
      "GRE 1 x 0 ATL\n",
      "SAN 0 x 0 INT\n",
      "FLA 3 x 2 ATH\n",
      "FOR 1 x 1 VAS\n",
      "BAH 3 x 2 FLU\n",
      "CRU 1 x 2 CHA\n",
      "---------------\n",
      "Rodada: 7\n",
      "FLA 2 x 0 FOR\n",
      "BAH 1 x 0 GRE\n",
      "BOT 1 x 0 VAS\n",
      "SAO 1 x 1 CRU\n",
      "ATH 3 x 0 FLU\n",
      "CEA 0 x 1 SAN\n",
      "CHA 1 x 2 PAL\n",
      "---------------\n",
      "Rodada: 8\n",
      "VAS 2 x 1 INT\n",
      "PAL 1 x 0 ATH\n",
      "GRE 1 x 0 FOR\n",
      "CRU 0 x 0 COR\n",
      "CEA 0 x 0 BAH\n",
      "AVA 0 x 0 SAO\n",
      "CSA 1 x 2 BOT\n",
      "---------------\n",
      "Rodada: 9\n",
      "BOT 0 x 1 GRE\n",
      "FOR 2 x 1 CRU\n",
      "CSA 0 x 2 FLA\n",
      "INT 3 x 1 BAH\n",
      "SAN 1 x 0 COR\n",
      "VAS 1 x 0 CEA\n",
      "CHA 1 x 1 FLU\n",
      "---------------\n",
      "Rodada: 10\n",
      "GRE 2 x 1 VAS\n",
      "FOR 2 x 0 AVA\n",
      "BAH 0 x 1 SAN\n",
      "SAO 1 x 1 PAL\n",
      "FLA 6 x 1 GOI\n",
      "ATH 1 x 0 INT\n",
      "COR 1 x 0 CSA\n",
      "---------------\n",
      "Rodada: 11\n",
      "VAS 2 x 1 FLU\n",
      "BAH 0 x 0 CRU\n",
      "CEA 2 x 0 PAL\n",
      "INT 1 x 1 GRE\n",
      "CSA 0 x 4 ATH\n",
      "BOT 0 x 1 SAN\n",
      "ATL 2 x 2 FOR\n",
      "---------------\n",
      "Rodada: 12\n",
      "PAL 1 x 1 VAS\n",
      "FLU 1 x 2 SAO\n",
      "CRU 0 x 2 ATH\n",
      "INT 1 x 0 CEA\n",
      "CHA 0 x 0 BAH\n",
      "SAN 3 x 1 AVA\n",
      "FLA 3 x 2 BOT\n",
      "---------------\n",
      "Rodada: 13\n",
      "FLU 2 x 1 INT\n",
      "CEA 2 x 1 FOR\n",
      "SAN 6 x 1 GOI\n",
      "AVA 0 x 2 BOT\n",
      "BAH 3 x 0 FLA\n",
      "VAS 0 x 0 CSA\n",
      "COR 1 x 1 PAL\n",
      "---------------\n",
      "Rodada: 14\n",
      "CEA 4 x 1 CHA\n",
      "SAO 3 x 2 SAN\n",
      "FLA 3 x 1 GRE\n",
      "ATL 2 x 1 FLU\n",
      "INT 0 x 0 COR\n",
      "BOT 2 x 1 ATH\n",
      "AVA 2 x 2 CRU\n",
      "---------------\n",
      "Rodada: 15\n",
      "FOR 0 x 1 INT\n",
      "COR 2 x 0 BOT\n",
      "ATH 1 x 0 ATL\n",
      "VAS 1 x 4 FLA\n",
      "GRE 1 x 1 PAL\n",
      "BAH 1 x 1 GOI\n",
      "SAO 1 x 0 CEA\n"
     ]
    }
   ],
   "source": [
    "for i in range(20):\n",
    "    div = soup.findAll('div', attrs='aside-content')[i]\n",
    "    linha = []\n",
    "    for span in div.findAll('span'):\n",
    "        if(len(span.getText()) not in [3,5]):\n",
    "            continue\n",
    "        linha.append(span.getText())\n",
    "    if len(linha) < 25:\n",
    "        continue\n",
    "    print('-' * 15)\n",
    "    print('Rodada:', i + 1)\n",
    "    #print(linha)\n",
    "    print(linha[0], linha[2], linha[1])\n",
    "    print(linha[3], linha[5], linha[4])\n",
    "    print(linha[6], linha[8], linha[7])\n",
    "    print(linha[9], linha[11], linha[10])\n",
    "    print(linha[12], linha[14], linha[13])\n",
    "    print(linha[15], linha[17], linha[16])\n",
    "    print(linha[18], linha[20], linha[19])"
   ]
  },
  {
   "cell_type": "markdown",
   "metadata": {},
   "source": [
    "# FIM"
   ]
  }
 ],
 "metadata": {
  "kernelspec": {
   "display_name": "Python 3",
   "language": "python",
   "name": "python3"
  },
  "language_info": {
   "codemirror_mode": {
    "name": "ipython",
    "version": 3
   },
   "file_extension": ".py",
   "mimetype": "text/x-python",
   "name": "python",
   "nbconvert_exporter": "python",
   "pygments_lexer": "ipython3",
   "version": "3.7.3"
  }
 },
 "nbformat": 4,
 "nbformat_minor": 2
}
